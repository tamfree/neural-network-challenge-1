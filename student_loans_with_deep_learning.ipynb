{
  "cells": [
    {
      "cell_type": "markdown",
      "metadata": {
        "id": "T7ZNhGcW6q6r"
      },
      "source": [
        "# Student Loan Risk with Deep Learning"
      ]
    },
    {
      "cell_type": "code",
      "execution_count": 250,
      "metadata": {
        "id": "0otrXpJc6q6u"
      },
      "outputs": [],
      "source": [
        "# Imports\n",
        "import pandas as pd\n",
        "import tensorflow as tf\n",
        "from tensorflow.keras.layers import Dense\n",
        "from tensorflow.keras.models import Sequential\n",
        "from sklearn.model_selection import train_test_split\n",
        "from sklearn.preprocessing import StandardScaler\n",
        "from sklearn.metrics import classification_report\n",
        "from pathlib import Path\n",
        "import numpy as np\n",
        "import os\n",
        "import pickle"
      ]
    },
    {
      "cell_type": "markdown",
      "metadata": {
        "id": "OpV4Y-3Z6q6w"
      },
      "source": [
        "---\n",
        "\n",
        "## Prepare the data to be used on a neural network model"
      ]
    },
    {
      "cell_type": "markdown",
      "metadata": {
        "id": "TUuSzp2l6q6w"
      },
      "source": [
        "### Step 1: Read the `student-loans.csv` file into a Pandas DataFrame. Review the DataFrame, looking for columns that could eventually define your features and target variables.   "
      ]
    },
    {
      "cell_type": "code",
      "execution_count": 251,
      "metadata": {
        "colab": {
          "base_uri": "https://localhost:8080/",
          "height": 226
        },
        "id": "G65km1KD6q6x",
        "outputId": "fe0fe7a2-2043-45ad-8c57-b5586614f9b1"
      },
      "outputs": [
        {
          "data": {
            "text/html": [
              "<div>\n",
              "<style scoped>\n",
              "    .dataframe tbody tr th:only-of-type {\n",
              "        vertical-align: middle;\n",
              "    }\n",
              "\n",
              "    .dataframe tbody tr th {\n",
              "        vertical-align: top;\n",
              "    }\n",
              "\n",
              "    .dataframe thead th {\n",
              "        text-align: right;\n",
              "    }\n",
              "</style>\n",
              "<table border=\"1\" class=\"dataframe\">\n",
              "  <thead>\n",
              "    <tr style=\"text-align: right;\">\n",
              "      <th></th>\n",
              "      <th>payment_history</th>\n",
              "      <th>location_parameter</th>\n",
              "      <th>stem_degree_score</th>\n",
              "      <th>gpa_ranking</th>\n",
              "      <th>alumni_success</th>\n",
              "      <th>study_major_code</th>\n",
              "      <th>time_to_completion</th>\n",
              "      <th>finance_workshop_score</th>\n",
              "      <th>cohort_ranking</th>\n",
              "      <th>total_loan_score</th>\n",
              "      <th>financial_aid_score</th>\n",
              "      <th>credit_ranking</th>\n",
              "    </tr>\n",
              "  </thead>\n",
              "  <tbody>\n",
              "    <tr>\n",
              "      <th>0</th>\n",
              "      <td>7.4</td>\n",
              "      <td>0.70</td>\n",
              "      <td>0.00</td>\n",
              "      <td>1.9</td>\n",
              "      <td>0.076</td>\n",
              "      <td>11.0</td>\n",
              "      <td>34.0</td>\n",
              "      <td>0.9978</td>\n",
              "      <td>3.51</td>\n",
              "      <td>0.56</td>\n",
              "      <td>9.4</td>\n",
              "      <td>0</td>\n",
              "    </tr>\n",
              "    <tr>\n",
              "      <th>1</th>\n",
              "      <td>7.8</td>\n",
              "      <td>0.88</td>\n",
              "      <td>0.00</td>\n",
              "      <td>2.6</td>\n",
              "      <td>0.098</td>\n",
              "      <td>25.0</td>\n",
              "      <td>67.0</td>\n",
              "      <td>0.9968</td>\n",
              "      <td>3.20</td>\n",
              "      <td>0.68</td>\n",
              "      <td>9.8</td>\n",
              "      <td>0</td>\n",
              "    </tr>\n",
              "    <tr>\n",
              "      <th>2</th>\n",
              "      <td>7.8</td>\n",
              "      <td>0.76</td>\n",
              "      <td>0.04</td>\n",
              "      <td>2.3</td>\n",
              "      <td>0.092</td>\n",
              "      <td>15.0</td>\n",
              "      <td>54.0</td>\n",
              "      <td>0.9970</td>\n",
              "      <td>3.26</td>\n",
              "      <td>0.65</td>\n",
              "      <td>9.8</td>\n",
              "      <td>0</td>\n",
              "    </tr>\n",
              "    <tr>\n",
              "      <th>3</th>\n",
              "      <td>11.2</td>\n",
              "      <td>0.28</td>\n",
              "      <td>0.56</td>\n",
              "      <td>1.9</td>\n",
              "      <td>0.075</td>\n",
              "      <td>17.0</td>\n",
              "      <td>60.0</td>\n",
              "      <td>0.9980</td>\n",
              "      <td>3.16</td>\n",
              "      <td>0.58</td>\n",
              "      <td>9.8</td>\n",
              "      <td>1</td>\n",
              "    </tr>\n",
              "    <tr>\n",
              "      <th>4</th>\n",
              "      <td>7.4</td>\n",
              "      <td>0.70</td>\n",
              "      <td>0.00</td>\n",
              "      <td>1.9</td>\n",
              "      <td>0.076</td>\n",
              "      <td>11.0</td>\n",
              "      <td>34.0</td>\n",
              "      <td>0.9978</td>\n",
              "      <td>3.51</td>\n",
              "      <td>0.56</td>\n",
              "      <td>9.4</td>\n",
              "      <td>0</td>\n",
              "    </tr>\n",
              "  </tbody>\n",
              "</table>\n",
              "</div>"
            ],
            "text/plain": [
              "   payment_history  location_parameter  stem_degree_score  gpa_ranking  \\\n",
              "0              7.4                0.70               0.00          1.9   \n",
              "1              7.8                0.88               0.00          2.6   \n",
              "2              7.8                0.76               0.04          2.3   \n",
              "3             11.2                0.28               0.56          1.9   \n",
              "4              7.4                0.70               0.00          1.9   \n",
              "\n",
              "   alumni_success  study_major_code  time_to_completion  \\\n",
              "0           0.076              11.0                34.0   \n",
              "1           0.098              25.0                67.0   \n",
              "2           0.092              15.0                54.0   \n",
              "3           0.075              17.0                60.0   \n",
              "4           0.076              11.0                34.0   \n",
              "\n",
              "   finance_workshop_score  cohort_ranking  total_loan_score  \\\n",
              "0                  0.9978            3.51              0.56   \n",
              "1                  0.9968            3.20              0.68   \n",
              "2                  0.9970            3.26              0.65   \n",
              "3                  0.9980            3.16              0.58   \n",
              "4                  0.9978            3.51              0.56   \n",
              "\n",
              "   financial_aid_score  credit_ranking  \n",
              "0                  9.4               0  \n",
              "1                  9.8               0  \n",
              "2                  9.8               0  \n",
              "3                  9.8               1  \n",
              "4                  9.4               0  "
            ]
          },
          "execution_count": 251,
          "metadata": {},
          "output_type": "execute_result"
        }
      ],
      "source": [
        "# Read the csv into a Pandas DataFrame\n",
        "file_path = \"https://static.bc-edx.com/ai/ail-v-1-0/m18/lms/datasets/student-loans.csv\"\n",
        "loans_df = pd.read_csv(file_path)\n",
        "\n",
        "# Review the DataFrame\n",
        "loans_df.head()"
      ]
    },
    {
      "cell_type": "code",
      "execution_count": 252,
      "metadata": {
        "colab": {
          "base_uri": "https://localhost:8080/",
          "height": 460
        },
        "id": "K8ZYB8wx6q6x",
        "outputId": "6939447b-73b0-4eff-bf20-673f3d832001"
      },
      "outputs": [
        {
          "data": {
            "text/plain": [
              "payment_history           float64\n",
              "location_parameter        float64\n",
              "stem_degree_score         float64\n",
              "gpa_ranking               float64\n",
              "alumni_success            float64\n",
              "study_major_code          float64\n",
              "time_to_completion        float64\n",
              "finance_workshop_score    float64\n",
              "cohort_ranking            float64\n",
              "total_loan_score          float64\n",
              "financial_aid_score       float64\n",
              "credit_ranking              int64\n",
              "dtype: object"
            ]
          },
          "execution_count": 252,
          "metadata": {},
          "output_type": "execute_result"
        }
      ],
      "source": [
        "# Review the data types associated with the columns\n",
        "loans_df.dtypes"
      ]
    },
    {
      "cell_type": "code",
      "execution_count": 253,
      "metadata": {
        "colab": {
          "base_uri": "https://localhost:8080/",
          "height": 178
        },
        "id": "9P8aX-dW75JO",
        "outputId": "88dfac5a-17e5-47e4-dcb0-a91d1b76124c"
      },
      "outputs": [
        {
          "data": {
            "text/plain": [
              "credit_ranking\n",
              "1    855\n",
              "0    744\n",
              "Name: count, dtype: int64"
            ]
          },
          "execution_count": 253,
          "metadata": {},
          "output_type": "execute_result"
        }
      ],
      "source": [
        "# Check the credit_ranking value counts\n",
        "loans_df[\"credit_ranking\"].value_counts()"
      ]
    },
    {
      "cell_type": "code",
      "execution_count": 254,
      "metadata": {
        "colab": {
          "base_uri": "https://localhost:8080/"
        },
        "id": "M44wqUpW0LtR",
        "outputId": "deed961d-d4cf-4965-ae21-cc65545dac35"
      },
      "outputs": [
        {
          "data": {
            "text/plain": [
              "(1599, 12)"
            ]
          },
          "execution_count": 254,
          "metadata": {},
          "output_type": "execute_result"
        }
      ],
      "source": [
        "loans_df.shape"
      ]
    },
    {
      "cell_type": "code",
      "execution_count": 255,
      "metadata": {
        "colab": {
          "base_uri": "https://localhost:8080/",
          "height": 320
        },
        "id": "I5w9ezZ30TcU",
        "outputId": "293f28b6-7987-4b99-ee06-55798f4d9f6f"
      },
      "outputs": [
        {
          "data": {
            "text/html": [
              "<div>\n",
              "<style scoped>\n",
              "    .dataframe tbody tr th:only-of-type {\n",
              "        vertical-align: middle;\n",
              "    }\n",
              "\n",
              "    .dataframe tbody tr th {\n",
              "        vertical-align: top;\n",
              "    }\n",
              "\n",
              "    .dataframe thead th {\n",
              "        text-align: right;\n",
              "    }\n",
              "</style>\n",
              "<table border=\"1\" class=\"dataframe\">\n",
              "  <thead>\n",
              "    <tr style=\"text-align: right;\">\n",
              "      <th></th>\n",
              "      <th>payment_history</th>\n",
              "      <th>location_parameter</th>\n",
              "      <th>stem_degree_score</th>\n",
              "      <th>gpa_ranking</th>\n",
              "      <th>alumni_success</th>\n",
              "      <th>study_major_code</th>\n",
              "      <th>time_to_completion</th>\n",
              "      <th>finance_workshop_score</th>\n",
              "      <th>cohort_ranking</th>\n",
              "      <th>total_loan_score</th>\n",
              "      <th>financial_aid_score</th>\n",
              "      <th>credit_ranking</th>\n",
              "    </tr>\n",
              "  </thead>\n",
              "  <tbody>\n",
              "    <tr>\n",
              "      <th>count</th>\n",
              "      <td>1599.000000</td>\n",
              "      <td>1599.000000</td>\n",
              "      <td>1599.000000</td>\n",
              "      <td>1599.000000</td>\n",
              "      <td>1599.000000</td>\n",
              "      <td>1599.000000</td>\n",
              "      <td>1599.000000</td>\n",
              "      <td>1599.000000</td>\n",
              "      <td>1599.000000</td>\n",
              "      <td>1599.000000</td>\n",
              "      <td>1599.000000</td>\n",
              "      <td>1599.000000</td>\n",
              "    </tr>\n",
              "    <tr>\n",
              "      <th>mean</th>\n",
              "      <td>8.319637</td>\n",
              "      <td>0.527821</td>\n",
              "      <td>0.270976</td>\n",
              "      <td>2.538806</td>\n",
              "      <td>0.087467</td>\n",
              "      <td>15.874922</td>\n",
              "      <td>46.467792</td>\n",
              "      <td>0.996747</td>\n",
              "      <td>3.311113</td>\n",
              "      <td>0.658149</td>\n",
              "      <td>10.422983</td>\n",
              "      <td>0.534709</td>\n",
              "    </tr>\n",
              "    <tr>\n",
              "      <th>std</th>\n",
              "      <td>1.741096</td>\n",
              "      <td>0.179060</td>\n",
              "      <td>0.194801</td>\n",
              "      <td>1.409928</td>\n",
              "      <td>0.047065</td>\n",
              "      <td>10.460157</td>\n",
              "      <td>32.895324</td>\n",
              "      <td>0.001887</td>\n",
              "      <td>0.154386</td>\n",
              "      <td>0.169507</td>\n",
              "      <td>1.065668</td>\n",
              "      <td>0.498950</td>\n",
              "    </tr>\n",
              "    <tr>\n",
              "      <th>min</th>\n",
              "      <td>4.600000</td>\n",
              "      <td>0.120000</td>\n",
              "      <td>0.000000</td>\n",
              "      <td>0.900000</td>\n",
              "      <td>0.012000</td>\n",
              "      <td>1.000000</td>\n",
              "      <td>6.000000</td>\n",
              "      <td>0.990070</td>\n",
              "      <td>2.740000</td>\n",
              "      <td>0.330000</td>\n",
              "      <td>8.400000</td>\n",
              "      <td>0.000000</td>\n",
              "    </tr>\n",
              "    <tr>\n",
              "      <th>25%</th>\n",
              "      <td>7.100000</td>\n",
              "      <td>0.390000</td>\n",
              "      <td>0.090000</td>\n",
              "      <td>1.900000</td>\n",
              "      <td>0.070000</td>\n",
              "      <td>7.000000</td>\n",
              "      <td>22.000000</td>\n",
              "      <td>0.995600</td>\n",
              "      <td>3.210000</td>\n",
              "      <td>0.550000</td>\n",
              "      <td>9.500000</td>\n",
              "      <td>0.000000</td>\n",
              "    </tr>\n",
              "    <tr>\n",
              "      <th>50%</th>\n",
              "      <td>7.900000</td>\n",
              "      <td>0.520000</td>\n",
              "      <td>0.260000</td>\n",
              "      <td>2.200000</td>\n",
              "      <td>0.079000</td>\n",
              "      <td>14.000000</td>\n",
              "      <td>38.000000</td>\n",
              "      <td>0.996750</td>\n",
              "      <td>3.310000</td>\n",
              "      <td>0.620000</td>\n",
              "      <td>10.200000</td>\n",
              "      <td>1.000000</td>\n",
              "    </tr>\n",
              "    <tr>\n",
              "      <th>75%</th>\n",
              "      <td>9.200000</td>\n",
              "      <td>0.640000</td>\n",
              "      <td>0.420000</td>\n",
              "      <td>2.600000</td>\n",
              "      <td>0.090000</td>\n",
              "      <td>21.000000</td>\n",
              "      <td>62.000000</td>\n",
              "      <td>0.997835</td>\n",
              "      <td>3.400000</td>\n",
              "      <td>0.730000</td>\n",
              "      <td>11.100000</td>\n",
              "      <td>1.000000</td>\n",
              "    </tr>\n",
              "    <tr>\n",
              "      <th>max</th>\n",
              "      <td>15.900000</td>\n",
              "      <td>1.580000</td>\n",
              "      <td>1.000000</td>\n",
              "      <td>15.500000</td>\n",
              "      <td>0.611000</td>\n",
              "      <td>72.000000</td>\n",
              "      <td>289.000000</td>\n",
              "      <td>1.003690</td>\n",
              "      <td>4.010000</td>\n",
              "      <td>2.000000</td>\n",
              "      <td>14.900000</td>\n",
              "      <td>1.000000</td>\n",
              "    </tr>\n",
              "  </tbody>\n",
              "</table>\n",
              "</div>"
            ],
            "text/plain": [
              "       payment_history  location_parameter  stem_degree_score  gpa_ranking  \\\n",
              "count      1599.000000         1599.000000        1599.000000  1599.000000   \n",
              "mean          8.319637            0.527821           0.270976     2.538806   \n",
              "std           1.741096            0.179060           0.194801     1.409928   \n",
              "min           4.600000            0.120000           0.000000     0.900000   \n",
              "25%           7.100000            0.390000           0.090000     1.900000   \n",
              "50%           7.900000            0.520000           0.260000     2.200000   \n",
              "75%           9.200000            0.640000           0.420000     2.600000   \n",
              "max          15.900000            1.580000           1.000000    15.500000   \n",
              "\n",
              "       alumni_success  study_major_code  time_to_completion  \\\n",
              "count     1599.000000       1599.000000         1599.000000   \n",
              "mean         0.087467         15.874922           46.467792   \n",
              "std          0.047065         10.460157           32.895324   \n",
              "min          0.012000          1.000000            6.000000   \n",
              "25%          0.070000          7.000000           22.000000   \n",
              "50%          0.079000         14.000000           38.000000   \n",
              "75%          0.090000         21.000000           62.000000   \n",
              "max          0.611000         72.000000          289.000000   \n",
              "\n",
              "       finance_workshop_score  cohort_ranking  total_loan_score  \\\n",
              "count             1599.000000     1599.000000       1599.000000   \n",
              "mean                 0.996747        3.311113          0.658149   \n",
              "std                  0.001887        0.154386          0.169507   \n",
              "min                  0.990070        2.740000          0.330000   \n",
              "25%                  0.995600        3.210000          0.550000   \n",
              "50%                  0.996750        3.310000          0.620000   \n",
              "75%                  0.997835        3.400000          0.730000   \n",
              "max                  1.003690        4.010000          2.000000   \n",
              "\n",
              "       financial_aid_score  credit_ranking  \n",
              "count          1599.000000     1599.000000  \n",
              "mean             10.422983        0.534709  \n",
              "std               1.065668        0.498950  \n",
              "min               8.400000        0.000000  \n",
              "25%               9.500000        0.000000  \n",
              "50%              10.200000        1.000000  \n",
              "75%              11.100000        1.000000  \n",
              "max              14.900000        1.000000  "
            ]
          },
          "execution_count": 255,
          "metadata": {},
          "output_type": "execute_result"
        }
      ],
      "source": [
        "loans_df.describe()"
      ]
    },
    {
      "cell_type": "code",
      "execution_count": 256,
      "metadata": {
        "colab": {
          "base_uri": "https://localhost:8080/",
          "height": 1000
        },
        "id": "b9OC7_G46ucw",
        "outputId": "2987739e-2d6a-4e1a-a736-e23c9cafbd63"
      },
      "outputs": [
        {
          "name": "stdout",
          "output_type": "stream",
          "text": [
            "                        payment_history  location_parameter  \\\n",
            "payment_history                1.000000           -0.256131   \n",
            "location_parameter            -0.256131            1.000000   \n",
            "stem_degree_score              0.671703           -0.552496   \n",
            "gpa_ranking                    0.114777            0.001918   \n",
            "alumni_success                 0.093705            0.061298   \n",
            "study_major_code              -0.153794           -0.010504   \n",
            "time_to_completion            -0.113181            0.076470   \n",
            "finance_workshop_score         0.668047            0.022026   \n",
            "cohort_ranking                -0.682978            0.234937   \n",
            "total_loan_score               0.183006           -0.260987   \n",
            "financial_aid_score           -0.061668           -0.202288   \n",
            "credit_ranking                 0.095093           -0.321441   \n",
            "\n",
            "                        stem_degree_score  gpa_ranking  alumni_success  \\\n",
            "payment_history                  0.671703     0.114777        0.093705   \n",
            "location_parameter              -0.552496     0.001918        0.061298   \n",
            "stem_degree_score                1.000000     0.143577        0.203823   \n",
            "gpa_ranking                      0.143577     1.000000        0.055610   \n",
            "alumni_success                   0.203823     0.055610        1.000000   \n",
            "study_major_code                -0.060978     0.187049        0.005562   \n",
            "time_to_completion               0.035533     0.203028        0.047400   \n",
            "finance_workshop_score           0.364947     0.355283        0.200632   \n",
            "cohort_ranking                  -0.541904    -0.085652       -0.265026   \n",
            "total_loan_score                 0.312770     0.005527        0.371260   \n",
            "financial_aid_score              0.109903     0.042075       -0.221141   \n",
            "credit_ranking                   0.159129    -0.002160       -0.109494   \n",
            "\n",
            "                        study_major_code  time_to_completion  \\\n",
            "payment_history                -0.153794           -0.113181   \n",
            "location_parameter             -0.010504            0.076470   \n",
            "stem_degree_score              -0.060978            0.035533   \n",
            "gpa_ranking                     0.187049            0.203028   \n",
            "alumni_success                  0.005562            0.047400   \n",
            "study_major_code                1.000000            0.667666   \n",
            "time_to_completion              0.667666            1.000000   \n",
            "finance_workshop_score         -0.021946            0.071269   \n",
            "cohort_ranking                  0.070377           -0.066495   \n",
            "total_loan_score                0.051658            0.042947   \n",
            "financial_aid_score            -0.069408           -0.205654   \n",
            "credit_ranking                 -0.061757           -0.231963   \n",
            "\n",
            "                        finance_workshop_score  cohort_ranking  \\\n",
            "payment_history                       0.668047       -0.682978   \n",
            "location_parameter                    0.022026        0.234937   \n",
            "stem_degree_score                     0.364947       -0.541904   \n",
            "gpa_ranking                           0.355283       -0.085652   \n",
            "alumni_success                        0.200632       -0.265026   \n",
            "study_major_code                     -0.021946        0.070377   \n",
            "time_to_completion                    0.071269       -0.066495   \n",
            "finance_workshop_score                1.000000       -0.341699   \n",
            "cohort_ranking                       -0.341699        1.000000   \n",
            "total_loan_score                      0.148506       -0.196648   \n",
            "financial_aid_score                  -0.496180        0.205633   \n",
            "credit_ranking                       -0.159110       -0.003264   \n",
            "\n",
            "                        total_loan_score  financial_aid_score  credit_ranking  \n",
            "payment_history                 0.183006            -0.061668        0.095093  \n",
            "location_parameter             -0.260987            -0.202288       -0.321441  \n",
            "stem_degree_score               0.312770             0.109903        0.159129  \n",
            "gpa_ranking                     0.005527             0.042075       -0.002160  \n",
            "alumni_success                  0.371260            -0.221141       -0.109494  \n",
            "study_major_code                0.051658            -0.069408       -0.061757  \n",
            "time_to_completion              0.042947            -0.205654       -0.231963  \n",
            "finance_workshop_score          0.148506            -0.496180       -0.159110  \n",
            "cohort_ranking                 -0.196648             0.205633       -0.003264  \n",
            "total_loan_score                1.000000             0.093595        0.218072  \n",
            "financial_aid_score             0.093595             1.000000        0.434751  \n",
            "credit_ranking                  0.218072             0.434751        1.000000  \n"
          ]
        },
        {
          "data": {
            "text/plain": [
              "<Axes: >"
            ]
          },
          "execution_count": 256,
          "metadata": {},
          "output_type": "execute_result"
        },
        {
          "data": {
            "image/png": "[encoded data removed]",
            "text/plain": [
              "<Figure size 640x480 with 2 Axes>"
            ]
          },
          "metadata": {},
          "output_type": "display_data"
        }
      ],
      "source": [
        "import seaborn as sns\n",
        "import matplotlib.pyplot as plt\n",
        "\n",
        "print(loans_df.corr())\n",
        "sns.heatmap(loans_df.corr(), cmap=\"rainbow\")\n",
        "\n",
        "\n"
      ]
    },
    {
      "cell_type": "markdown",
      "metadata": {
        "id": "R6vbZeDH6q6y"
      },
      "source": [
        "### Step 2: Using the preprocessed data, create the features (`X`) and target (`y`) datasets. The target dataset should be defined by the preprocessed DataFrame column “credit_ranking”. The remaining columns should define the features dataset."
      ]
    },
    {
      "cell_type": "code",
      "execution_count": 257,
      "metadata": {
        "colab": {
          "base_uri": "https://localhost:8080/"
        },
        "id": "7xZ-DugZ8UQ8",
        "outputId": "29285c36-23b0-4e9d-d4b4-35e04047231d"
      },
      "outputs": [
        {
          "data": {
            "text/plain": [
              "Index(['payment_history', 'location_parameter', 'stem_degree_score',\n",
              "       'gpa_ranking', 'alumni_success', 'study_major_code',\n",
              "       'time_to_completion', 'finance_workshop_score', 'cohort_ranking',\n",
              "       'total_loan_score', 'financial_aid_score', 'credit_ranking'],\n",
              "      dtype='object')"
            ]
          },
          "execution_count": 257,
          "metadata": {},
          "output_type": "execute_result"
        }
      ],
      "source": [
        "loans_df.columns"
      ]
    },
    {
      "cell_type": "code",
      "execution_count": 279,
      "metadata": {
        "id": "1z5KuV8j79W-"
      },
      "outputs": [
        {
          "data": {
            "text/plain": [
              "\"\\n# Accuracy: Wavg0.75\\nfeatures = [\\n    'payment_history', 'stem_degree_score',\\n       'gpa_ranking', 'alumni_success', 'study_major_code',\\n       'time_to_completion', 'finance_workshop_score',\\n       'total_loan_score', 'financial_aid_score', 'credit_ranking', 'cohort_ranking']\\n\""
            ]
          },
          "execution_count": 279,
          "metadata": {},
          "output_type": "execute_result"
        }
      ],
      "source": [
        "#Likely useful feature columns\n",
        "#features = ['location_parameter', 'stem_degree_score', 'finance_workshop_score', 'cohort_ranking', 'credit_ranking']\n",
        "\n",
        "features = [\n",
        "    'payment_history', \n",
        "    'stem_degree_score',\n",
        "    'gpa_ranking', \n",
        "    'alumni_success', \n",
        "    'study_major_code',\n",
        "    'time_to_completion', \n",
        "    'finance_workshop_score',\n",
        "    'total_loan_score',\n",
        "    'financial_aid_score',\n",
        "    'credit_ranking',\n",
        "    'cohort_ranking']\n",
        "\n",
        "'''\n",
        "# Accuracy: Wavg0.75\n",
        "features = [\n",
        "    'payment_history', 'stem_degree_score',\n",
        "       'gpa_ranking', 'alumni_success', 'study_major_code',\n",
        "       'time_to_completion', 'finance_workshop_score',\n",
        "       'total_loan_score', 'financial_aid_score', 'credit_ranking', 'cohort_ranking']\n",
        "'''"
      ]
    },
    {
      "cell_type": "code",
      "execution_count": 280,
      "metadata": {
        "id": "5ptNQONZ1TVO"
      },
      "outputs": [],
      "source": [
        "TARGET_COL = \"credit_ranking\""
      ]
    },
    {
      "cell_type": "code",
      "execution_count": 281,
      "metadata": {
        "colab": {
          "base_uri": "https://localhost:8080/",
          "height": 458
        },
        "id": "Q5eVAP5M6q6y",
        "outputId": "65d78296-f505-4a33-9de4-91ca7fa0fae3"
      },
      "outputs": [
        {
          "data": {
            "text/plain": [
              "0       0\n",
              "1       0\n",
              "2       0\n",
              "3       1\n",
              "4       0\n",
              "       ..\n",
              "1594    0\n",
              "1595    1\n",
              "1596    1\n",
              "1597    0\n",
              "1598    1\n",
              "Name: credit_ranking, Length: 1599, dtype: int64"
            ]
          },
          "execution_count": 281,
          "metadata": {},
          "output_type": "execute_result"
        }
      ],
      "source": [
        "# Define the target set y using the credit_ranking column\n",
        "y = loans_df[TARGET_COL]\n",
        "\n",
        "# Display a sample of y\n",
        "y"
      ]
    },
    {
      "cell_type": "code",
      "execution_count": 282,
      "metadata": {
        "colab": {
          "base_uri": "https://localhost:8080/",
          "height": 226
        },
        "id": "IIkrD2Sn6q6z",
        "outputId": "cea5c09d-56a7-4a15-9d5d-1a6c82983d14"
      },
      "outputs": [
        {
          "data": {
            "text/html": [
              "<div>\n",
              "<style scoped>\n",
              "    .dataframe tbody tr th:only-of-type {\n",
              "        vertical-align: middle;\n",
              "    }\n",
              "\n",
              "    .dataframe tbody tr th {\n",
              "        vertical-align: top;\n",
              "    }\n",
              "\n",
              "    .dataframe thead th {\n",
              "        text-align: right;\n",
              "    }\n",
              "</style>\n",
              "<table border=\"1\" class=\"dataframe\">\n",
              "  <thead>\n",
              "    <tr style=\"text-align: right;\">\n",
              "      <th></th>\n",
              "      <th>payment_history</th>\n",
              "      <th>stem_degree_score</th>\n",
              "      <th>gpa_ranking</th>\n",
              "      <th>alumni_success</th>\n",
              "      <th>study_major_code</th>\n",
              "      <th>time_to_completion</th>\n",
              "      <th>finance_workshop_score</th>\n",
              "      <th>total_loan_score</th>\n",
              "      <th>financial_aid_score</th>\n",
              "      <th>cohort_ranking</th>\n",
              "    </tr>\n",
              "  </thead>\n",
              "  <tbody>\n",
              "    <tr>\n",
              "      <th>0</th>\n",
              "      <td>7.4</td>\n",
              "      <td>0.00</td>\n",
              "      <td>1.9</td>\n",
              "      <td>0.076</td>\n",
              "      <td>11.0</td>\n",
              "      <td>34.0</td>\n",
              "      <td>0.9978</td>\n",
              "      <td>0.56</td>\n",
              "      <td>9.4</td>\n",
              "      <td>3.51</td>\n",
              "    </tr>\n",
              "    <tr>\n",
              "      <th>1</th>\n",
              "      <td>7.8</td>\n",
              "      <td>0.00</td>\n",
              "      <td>2.6</td>\n",
              "      <td>0.098</td>\n",
              "      <td>25.0</td>\n",
              "      <td>67.0</td>\n",
              "      <td>0.9968</td>\n",
              "      <td>0.68</td>\n",
              "      <td>9.8</td>\n",
              "      <td>3.20</td>\n",
              "    </tr>\n",
              "    <tr>\n",
              "      <th>2</th>\n",
              "      <td>7.8</td>\n",
              "      <td>0.04</td>\n",
              "      <td>2.3</td>\n",
              "      <td>0.092</td>\n",
              "      <td>15.0</td>\n",
              "      <td>54.0</td>\n",
              "      <td>0.9970</td>\n",
              "      <td>0.65</td>\n",
              "      <td>9.8</td>\n",
              "      <td>3.26</td>\n",
              "    </tr>\n",
              "    <tr>\n",
              "      <th>3</th>\n",
              "      <td>11.2</td>\n",
              "      <td>0.56</td>\n",
              "      <td>1.9</td>\n",
              "      <td>0.075</td>\n",
              "      <td>17.0</td>\n",
              "      <td>60.0</td>\n",
              "      <td>0.9980</td>\n",
              "      <td>0.58</td>\n",
              "      <td>9.8</td>\n",
              "      <td>3.16</td>\n",
              "    </tr>\n",
              "    <tr>\n",
              "      <th>4</th>\n",
              "      <td>7.4</td>\n",
              "      <td>0.00</td>\n",
              "      <td>1.9</td>\n",
              "      <td>0.076</td>\n",
              "      <td>11.0</td>\n",
              "      <td>34.0</td>\n",
              "      <td>0.9978</td>\n",
              "      <td>0.56</td>\n",
              "      <td>9.4</td>\n",
              "      <td>3.51</td>\n",
              "    </tr>\n",
              "  </tbody>\n",
              "</table>\n",
              "</div>"
            ],
            "text/plain": [
              "   payment_history  stem_degree_score  gpa_ranking  alumni_success  \\\n",
              "0              7.4               0.00          1.9           0.076   \n",
              "1              7.8               0.00          2.6           0.098   \n",
              "2              7.8               0.04          2.3           0.092   \n",
              "3             11.2               0.56          1.9           0.075   \n",
              "4              7.4               0.00          1.9           0.076   \n",
              "\n",
              "   study_major_code  time_to_completion  finance_workshop_score  \\\n",
              "0              11.0                34.0                  0.9978   \n",
              "1              25.0                67.0                  0.9968   \n",
              "2              15.0                54.0                  0.9970   \n",
              "3              17.0                60.0                  0.9980   \n",
              "4              11.0                34.0                  0.9978   \n",
              "\n",
              "   total_loan_score  financial_aid_score  cohort_ranking  \n",
              "0              0.56                  9.4            3.51  \n",
              "1              0.68                  9.8            3.20  \n",
              "2              0.65                  9.8            3.26  \n",
              "3              0.58                  9.8            3.16  \n",
              "4              0.56                  9.4            3.51  "
            ]
          },
          "execution_count": 282,
          "metadata": {},
          "output_type": "execute_result"
        }
      ],
      "source": [
        "# Define features set X by selecting all columns but credit_ranking\n",
        "X = loans_df[features].drop(columns=TARGET_COL)\n",
        "\n",
        "# Review the features DataFrame\n",
        "X.head()"
      ]
    },
    {
      "cell_type": "markdown",
      "metadata": {
        "id": "QmM9c-tj6q6z"
      },
      "source": [
        "### Step 3: Split the features and target sets into training and testing datasets.\n"
      ]
    },
    {
      "cell_type": "code",
      "execution_count": 283,
      "metadata": {
        "id": "OD7xwU_96q6z"
      },
      "outputs": [],
      "source": [
        "# Split the preprocessed data into a training and testing dataset\n",
        "# Assign the function a random_state equal to 1\n",
        "X_train, X_test, y_train, y_test = train_test_split(X, y, random_state=1)"
      ]
    },
    {
      "cell_type": "markdown",
      "metadata": {
        "id": "G9i6DHY06q6z"
      },
      "source": [
        "### Step 4: Use scikit-learn's `StandardScaler` to scale the features data."
      ]
    },
    {
      "cell_type": "code",
      "execution_count": 284,
      "metadata": {
        "id": "BzD3z20m6q6z"
      },
      "outputs": [],
      "source": [
        "# Create a StandardScaler instance\n",
        "scaler = StandardScaler()\n",
        "\n",
        "# Fit the scaler to the features training dataset\n",
        "X_train_scaled = scaler.fit_transform(X_train)\n",
        "\n",
        "\n",
        "# Fit the scaler to the features test dataset\n",
        "X_test_scaled = scaler.transform(X_test)"
      ]
    },
    {
      "cell_type": "code",
      "execution_count": 285,
      "metadata": {
        "colab": {
          "base_uri": "https://localhost:8080/"
        },
        "id": "MKlzoGnfBYt_",
        "outputId": "ffac3a40-4f08-40ab-c454-00daa9fdc761"
      },
      "outputs": [
        {
          "data": {
            "text/plain": [
              "array([-0.56794375, -0.19241296, -0.17192598, -0.45737585,  1.86853316,\n",
              "        0.7479316 , -0.45120802, -0.22553894, -0.31915735,  0.73249574])"
            ]
          },
          "execution_count": 285,
          "metadata": {},
          "output_type": "execute_result"
        }
      ],
      "source": [
        "X_train_scaled[0]"
      ]
    },
    {
      "cell_type": "code",
      "execution_count": 286,
      "metadata": {
        "colab": {
          "base_uri": "https://localhost:8080/"
        },
        "id": "tkrLkpkmBfKk",
        "outputId": "89452663-6464-4810-9ae2-aad2293526f9"
      },
      "outputs": [
        {
          "data": {
            "text/plain": [
              "array([ 0.26985713,  1.87373569, -0.24714555,  0.12377763, -0.64737885,\n",
              "       -0.11645477,  0.97047758,  0.01130905,  0.05358797,  1.43159743])"
            ]
          },
          "execution_count": 286,
          "metadata": {},
          "output_type": "execute_result"
        }
      ],
      "source": [
        "X_test_scaled[0]"
      ]
    },
    {
      "cell_type": "markdown",
      "metadata": {
        "id": "CZzVDjba6q6z"
      },
      "source": [
        "---\n",
        "\n",
        "## Compile and Evaluate a Model Using a Neural Network"
      ]
    },
    {
      "cell_type": "markdown",
      "metadata": {
        "id": "m-pSux4Q6q60"
      },
      "source": [
        "### Step 1: Create a deep neural network by assigning the number of input features, the number of layers, and the number of neurons on each layer using Tensorflow’s Keras.\n",
        "\n",
        "> **Hint** You can start with a two-layer deep neural network model that uses the `relu` activation function for both layers.\n"
      ]
    },
    {
      "cell_type": "code",
      "execution_count": 287,
      "metadata": {
        "colab": {
          "base_uri": "https://localhost:8080/"
        },
        "id": "t5C94FCd6q60",
        "outputId": "091f3994-6ce6-4c2b-9ec8-870cdffd02f3"
      },
      "outputs": [
        {
          "data": {
            "text/plain": [
              "10"
            ]
          },
          "execution_count": 287,
          "metadata": {},
          "output_type": "execute_result"
        }
      ],
      "source": [
        "# Define the the number of inputs (features) to the model\n",
        "num_inputs = len(X_train.columns)\n",
        "\n",
        "# Review the number of features\n",
        "num_inputs"
      ]
    },
    {
      "cell_type": "code",
      "execution_count": 288,
      "metadata": {
        "id": "c_KXDLkF6q60"
      },
      "outputs": [],
      "source": [
        "# Define the number of hidden nodes for the first hidden layer\n",
        "num_hidden_nodes_layer_1 = int(num_inputs * 2)\n",
        "\n",
        "# Define the number of hidden nodes for the second hidden layer\n",
        "num_hidden_nodes_layer_2 = int(num_hidden_nodes_layer_1 *.5)\n",
        "\n",
        "# Define the number of neurons in the output layer\n",
        "num_output_neurons = 1"
      ]
    },
    {
      "cell_type": "code",
      "execution_count": 289,
      "metadata": {
        "colab": {
          "base_uri": "https://localhost:8080/"
        },
        "id": "63UdFncw6q60",
        "outputId": "f87a1fe3-1ea7-4927-eb8d-eb5f060fbf31"
      },
      "outputs": [],
      "source": [
        "# Create the Sequential model instance\n",
        "model = Sequential()\n",
        "# Add the first hidden layer\n",
        "model.add(Dense(units=num_hidden_nodes_layer_1, activation = \"relu\", input_dim = num_inputs))\n",
        "\n",
        "# Add the second hidden layer\n",
        "model.add(Dense(units=num_hidden_nodes_layer_2, activation = \"relu\", input_dim = num_hidden_nodes_layer_1))\n",
        "\n",
        "# Add the output layer to the model specifying the number of output neurons and activation function\n",
        "model.add(Dense(units = num_output_neurons, activation=\"sigmoid\"))"
      ]
    },
    {
      "cell_type": "code",
      "execution_count": 290,
      "metadata": {
        "colab": {
          "base_uri": "https://localhost:8080/",
          "height": 225
        },
        "id": "-Beoh4f_6q61",
        "outputId": "07b64bb8-b4ba-4ab1-8ecb-c9f67f63dde9"
      },
      "outputs": [
        {
          "name": "stdout",
          "output_type": "stream",
          "text": [
            "Model: \"sequential_9\"\n",
            "_________________________________________________________________\n",
            " Layer (type)                Output Shape              Param #   \n",
            "=================================================================\n",
            " dense_27 (Dense)            (None, 20)                220       \n",
            "                                                                 \n",
            " dense_28 (Dense)            (None, 10)                210       \n",
            "                                                                 \n",
            " dense_29 (Dense)            (None, 1)                 11        \n",
            "                                                                 \n",
            "=================================================================\n",
            "Total params: 441\n",
            "Trainable params: 441\n",
            "Non-trainable params: 0\n",
            "_________________________________________________________________\n"
          ]
        }
      ],
      "source": [
        "# Display the Sequential model summary\n",
        "model.summary()"
      ]
    },
    {
      "cell_type": "markdown",
      "metadata": {
        "id": "nRqWGIRo6q61"
      },
      "source": [
        "### Step 2: Compile and fit the model using the `binary_crossentropy` loss function, the `adam` optimizer, and the `accuracy` evaluation metric.\n"
      ]
    },
    {
      "cell_type": "code",
      "execution_count": 291,
      "metadata": {
        "id": "E-hZaeSn6q61"
      },
      "outputs": [],
      "source": [
        "# Compile the Sequential model\n",
        "model.compile(loss=\"binary_crossentropy\", optimizer = \"adam\", metrics=[\"accuracy\"])\n"
      ]
    },
    {
      "cell_type": "code",
      "execution_count": 292,
      "metadata": {
        "colab": {
          "base_uri": "https://localhost:8080/"
        },
        "id": "x25e8Idc6q61",
        "outputId": "c83bf228-7648-4688-8977-4f92f99cc513"
      },
      "outputs": [
        {
          "name": "stdout",
          "output_type": "stream",
          "text": [
            "Epoch 1/100\n",
            "38/38 [==============================] - 0s 399us/step - loss: 0.7992 - accuracy: 0.4170\n",
            "Epoch 2/100\n",
            "38/38 [==============================] - 0s 297us/step - loss: 0.7208 - accuracy: 0.5038\n",
            "Epoch 3/100\n",
            "38/38 [==============================] - 0s 283us/step - loss: 0.6788 - accuracy: 0.5822\n",
            "Epoch 4/100\n",
            "38/38 [==============================] - 0s 281us/step - loss: 0.6476 - accuracy: 0.6539\n",
            "Epoch 5/100\n",
            "38/38 [==============================] - 0s 275us/step - loss: 0.6188 - accuracy: 0.6997\n",
            "Epoch 6/100\n",
            "38/38 [==============================] - 0s 265us/step - loss: 0.5863 - accuracy: 0.7281\n",
            "Epoch 7/100\n",
            "38/38 [==============================] - 0s 278us/step - loss: 0.5581 - accuracy: 0.7248\n",
            "Epoch 8/100\n",
            "38/38 [==============================] - 0s 270us/step - loss: 0.5422 - accuracy: 0.7331\n",
            "Epoch 9/100\n",
            "38/38 [==============================] - 0s 270us/step - loss: 0.5286 - accuracy: 0.7440\n",
            "Epoch 10/100\n",
            "38/38 [==============================] - 0s 269us/step - loss: 0.5204 - accuracy: 0.7465\n",
            "Epoch 11/100\n",
            "38/38 [==============================] - 0s 272us/step - loss: 0.5139 - accuracy: 0.7465\n",
            "Epoch 12/100\n",
            "38/38 [==============================] - 0s 263us/step - loss: 0.5088 - accuracy: 0.7548\n",
            "Epoch 13/100\n",
            "38/38 [==============================] - 0s 316us/step - loss: 0.5046 - accuracy: 0.7506\n",
            "Epoch 14/100\n",
            "38/38 [==============================] - 0s 285us/step - loss: 0.4999 - accuracy: 0.7498\n",
            "Epoch 15/100\n",
            "38/38 [==============================] - 0s 264us/step - loss: 0.4972 - accuracy: 0.7565\n",
            "Epoch 16/100\n",
            "38/38 [==============================] - 0s 259us/step - loss: 0.4934 - accuracy: 0.7540\n",
            "Epoch 17/100\n",
            "38/38 [==============================] - 0s 260us/step - loss: 0.4900 - accuracy: 0.7590\n",
            "Epoch 18/100\n",
            "38/38 [==============================] - 0s 267us/step - loss: 0.4872 - accuracy: 0.7673\n",
            "Epoch 19/100\n",
            "38/38 [==============================] - 0s 263us/step - loss: 0.4843 - accuracy: 0.7698\n",
            "Epoch 20/100\n",
            "38/38 [==============================] - 0s 264us/step - loss: 0.4822 - accuracy: 0.7673\n",
            "Epoch 21/100\n",
            "38/38 [==============================] - 0s 254us/step - loss: 0.4793 - accuracy: 0.7740\n",
            "Epoch 22/100\n",
            "38/38 [==============================] - 0s 256us/step - loss: 0.4777 - accuracy: 0.7723\n",
            "Epoch 23/100\n",
            "38/38 [==============================] - 0s 264us/step - loss: 0.4753 - accuracy: 0.7765\n",
            "Epoch 24/100\n",
            "38/38 [==============================] - 0s 257us/step - loss: 0.4733 - accuracy: 0.7773\n",
            "Epoch 25/100\n",
            "38/38 [==============================] - 0s 429us/step - loss: 0.4711 - accuracy: 0.7773\n",
            "Epoch 26/100\n",
            "38/38 [==============================] - 0s 261us/step - loss: 0.4683 - accuracy: 0.7773\n",
            "Epoch 27/100\n",
            "38/38 [==============================] - 0s 271us/step - loss: 0.4669 - accuracy: 0.7807\n",
            "Epoch 28/100\n",
            "38/38 [==============================] - 0s 268us/step - loss: 0.4658 - accuracy: 0.7781\n",
            "Epoch 29/100\n",
            "38/38 [==============================] - 0s 255us/step - loss: 0.4637 - accuracy: 0.7815\n",
            "Epoch 30/100\n",
            "38/38 [==============================] - 0s 263us/step - loss: 0.4627 - accuracy: 0.7815\n",
            "Epoch 31/100\n",
            "38/38 [==============================] - 0s 254us/step - loss: 0.4607 - accuracy: 0.7857\n",
            "Epoch 32/100\n",
            "38/38 [==============================] - 0s 257us/step - loss: 0.4592 - accuracy: 0.7840\n",
            "Epoch 33/100\n",
            "38/38 [==============================] - 0s 263us/step - loss: 0.4584 - accuracy: 0.7848\n",
            "Epoch 34/100\n",
            "38/38 [==============================] - 0s 264us/step - loss: 0.4569 - accuracy: 0.7857\n",
            "Epoch 35/100\n",
            "38/38 [==============================] - 0s 255us/step - loss: 0.4547 - accuracy: 0.7848\n",
            "Epoch 36/100\n",
            "38/38 [==============================] - 0s 257us/step - loss: 0.4537 - accuracy: 0.7823\n",
            "Epoch 37/100\n",
            "38/38 [==============================] - 0s 262us/step - loss: 0.4535 - accuracy: 0.7932\n",
            "Epoch 38/100\n",
            "38/38 [==============================] - 0s 252us/step - loss: 0.4503 - accuracy: 0.7907\n",
            "Epoch 39/100\n",
            "38/38 [==============================] - 0s 258us/step - loss: 0.4497 - accuracy: 0.7973\n",
            "Epoch 40/100\n",
            "38/38 [==============================] - 0s 261us/step - loss: 0.4488 - accuracy: 0.7923\n",
            "Epoch 41/100\n",
            "38/38 [==============================] - 0s 255us/step - loss: 0.4474 - accuracy: 0.7990\n",
            "Epoch 42/100\n",
            "38/38 [==============================] - 0s 264us/step - loss: 0.4456 - accuracy: 0.7965\n",
            "Epoch 43/100\n",
            "38/38 [==============================] - 0s 252us/step - loss: 0.4447 - accuracy: 0.7948\n",
            "Epoch 44/100\n",
            "38/38 [==============================] - 0s 261us/step - loss: 0.4438 - accuracy: 0.8007\n",
            "Epoch 45/100\n",
            "38/38 [==============================] - 0s 269us/step - loss: 0.4419 - accuracy: 0.8015\n",
            "Epoch 46/100\n",
            "38/38 [==============================] - 0s 280us/step - loss: 0.4413 - accuracy: 0.8057\n",
            "Epoch 47/100\n",
            "38/38 [==============================] - 0s 257us/step - loss: 0.4399 - accuracy: 0.7998\n",
            "Epoch 48/100\n",
            "38/38 [==============================] - 0s 266us/step - loss: 0.4396 - accuracy: 0.8032\n",
            "Epoch 49/100\n",
            "38/38 [==============================] - 0s 261us/step - loss: 0.4388 - accuracy: 0.7965\n",
            "Epoch 50/100\n",
            "38/38 [==============================] - 0s 263us/step - loss: 0.4377 - accuracy: 0.8007\n",
            "Epoch 51/100\n",
            "38/38 [==============================] - 0s 262us/step - loss: 0.4364 - accuracy: 0.7998\n",
            "Epoch 52/100\n",
            "38/38 [==============================] - 0s 261us/step - loss: 0.4351 - accuracy: 0.7998\n",
            "Epoch 53/100\n",
            "38/38 [==============================] - 0s 259us/step - loss: 0.4330 - accuracy: 0.7998\n",
            "Epoch 54/100\n",
            "38/38 [==============================] - 0s 267us/step - loss: 0.4328 - accuracy: 0.8048\n",
            "Epoch 55/100\n",
            "38/38 [==============================] - 0s 262us/step - loss: 0.4314 - accuracy: 0.8073\n",
            "Epoch 56/100\n",
            "38/38 [==============================] - 0s 257us/step - loss: 0.4297 - accuracy: 0.8065\n",
            "Epoch 57/100\n",
            "38/38 [==============================] - 0s 271us/step - loss: 0.4308 - accuracy: 0.8065\n",
            "Epoch 58/100\n",
            "38/38 [==============================] - 0s 259us/step - loss: 0.4291 - accuracy: 0.8057\n",
            "Epoch 59/100\n",
            "38/38 [==============================] - 0s 918us/step - loss: 0.4290 - accuracy: 0.8082\n",
            "Epoch 60/100\n",
            "38/38 [==============================] - 0s 261us/step - loss: 0.4271 - accuracy: 0.8090\n",
            "Epoch 61/100\n",
            "38/38 [==============================] - 0s 260us/step - loss: 0.4269 - accuracy: 0.8098\n",
            "Epoch 62/100\n",
            "38/38 [==============================] - 0s 251us/step - loss: 0.4260 - accuracy: 0.8107\n",
            "Epoch 63/100\n",
            "38/38 [==============================] - 0s 253us/step - loss: 0.4242 - accuracy: 0.8090\n",
            "Epoch 64/100\n",
            "38/38 [==============================] - 0s 266us/step - loss: 0.4238 - accuracy: 0.8123\n",
            "Epoch 65/100\n",
            "38/38 [==============================] - 0s 263us/step - loss: 0.4232 - accuracy: 0.8057\n",
            "Epoch 66/100\n",
            "38/38 [==============================] - 0s 263us/step - loss: 0.4213 - accuracy: 0.8148\n",
            "Epoch 67/100\n",
            "38/38 [==============================] - 0s 258us/step - loss: 0.4204 - accuracy: 0.8123\n",
            "Epoch 68/100\n",
            "38/38 [==============================] - 0s 265us/step - loss: 0.4197 - accuracy: 0.8165\n",
            "Epoch 69/100\n",
            "38/38 [==============================] - 0s 260us/step - loss: 0.4197 - accuracy: 0.8065\n",
            "Epoch 70/100\n",
            "38/38 [==============================] - 0s 268us/step - loss: 0.4174 - accuracy: 0.8165\n",
            "Epoch 71/100\n",
            "38/38 [==============================] - 0s 269us/step - loss: 0.4181 - accuracy: 0.8140\n",
            "Epoch 72/100\n",
            "38/38 [==============================] - 0s 279us/step - loss: 0.4170 - accuracy: 0.8123\n",
            "Epoch 73/100\n",
            "38/38 [==============================] - 0s 279us/step - loss: 0.4162 - accuracy: 0.8123\n",
            "Epoch 74/100\n",
            "38/38 [==============================] - 0s 285us/step - loss: 0.4151 - accuracy: 0.8132\n",
            "Epoch 75/100\n",
            "38/38 [==============================] - 0s 260us/step - loss: 0.4144 - accuracy: 0.8165\n",
            "Epoch 76/100\n",
            "38/38 [==============================] - 0s 267us/step - loss: 0.4146 - accuracy: 0.8140\n",
            "Epoch 77/100\n",
            "38/38 [==============================] - 0s 277us/step - loss: 0.4139 - accuracy: 0.8173\n",
            "Epoch 78/100\n",
            "38/38 [==============================] - 0s 257us/step - loss: 0.4119 - accuracy: 0.8140\n",
            "Epoch 79/100\n",
            "38/38 [==============================] - 0s 266us/step - loss: 0.4129 - accuracy: 0.8190\n",
            "Epoch 80/100\n",
            "38/38 [==============================] - 0s 269us/step - loss: 0.4117 - accuracy: 0.8165\n",
            "Epoch 81/100\n",
            "38/38 [==============================] - 0s 261us/step - loss: 0.4112 - accuracy: 0.8165\n",
            "Epoch 82/100\n",
            "38/38 [==============================] - 0s 267us/step - loss: 0.4105 - accuracy: 0.8148\n",
            "Epoch 83/100\n",
            "38/38 [==============================] - 0s 274us/step - loss: 0.4110 - accuracy: 0.8090\n",
            "Epoch 84/100\n",
            "38/38 [==============================] - 0s 263us/step - loss: 0.4085 - accuracy: 0.8190\n",
            "Epoch 85/100\n",
            "38/38 [==============================] - 0s 403us/step - loss: 0.4074 - accuracy: 0.8165\n",
            "Epoch 86/100\n",
            "38/38 [==============================] - 0s 269us/step - loss: 0.4064 - accuracy: 0.8224\n",
            "Epoch 87/100\n",
            "38/38 [==============================] - 0s 270us/step - loss: 0.4051 - accuracy: 0.8215\n",
            "Epoch 88/100\n",
            "38/38 [==============================] - 0s 267us/step - loss: 0.4048 - accuracy: 0.8240\n",
            "Epoch 89/100\n",
            "38/38 [==============================] - 0s 252us/step - loss: 0.4042 - accuracy: 0.8207\n",
            "Epoch 90/100\n",
            "38/38 [==============================] - 0s 261us/step - loss: 0.4034 - accuracy: 0.8198\n",
            "Epoch 91/100\n",
            "38/38 [==============================] - 0s 262us/step - loss: 0.4032 - accuracy: 0.8198\n",
            "Epoch 92/100\n",
            "38/38 [==============================] - 0s 262us/step - loss: 0.4014 - accuracy: 0.8257\n",
            "Epoch 93/100\n",
            "38/38 [==============================] - 0s 268us/step - loss: 0.4005 - accuracy: 0.8190\n",
            "Epoch 94/100\n",
            "38/38 [==============================] - 0s 258us/step - loss: 0.3999 - accuracy: 0.8265\n",
            "Epoch 95/100\n",
            "38/38 [==============================] - 0s 267us/step - loss: 0.3994 - accuracy: 0.8274\n",
            "Epoch 96/100\n",
            "38/38 [==============================] - 0s 266us/step - loss: 0.3979 - accuracy: 0.8249\n",
            "Epoch 97/100\n",
            "38/38 [==============================] - 0s 265us/step - loss: 0.3982 - accuracy: 0.8190\n",
            "Epoch 98/100\n",
            "38/38 [==============================] - 0s 263us/step - loss: 0.3971 - accuracy: 0.8265\n",
            "Epoch 99/100\n",
            "38/38 [==============================] - 0s 264us/step - loss: 0.3963 - accuracy: 0.8224\n",
            "Epoch 100/100\n",
            "38/38 [==============================] - 0s 264us/step - loss: 0.3941 - accuracy: 0.8274\n"
          ]
        }
      ],
      "source": [
        "# Fit the model using 50 epochs and the training data\n",
        "epoch_num = 100\n",
        "fit_model = model.fit(X_train_scaled, y_train, epochs=epoch_num)"
      ]
    },
    {
      "cell_type": "markdown",
      "metadata": {
        "id": "RfHMPZVI6q61"
      },
      "source": [
        "### Step 3: Evaluate the model using the test data to determine the model’s loss and accuracy.\n"
      ]
    },
    {
      "cell_type": "code",
      "execution_count": 293,
      "metadata": {
        "colab": {
          "base_uri": "https://localhost:8080/"
        },
        "id": "5hfVADKo6q61",
        "outputId": "9e2bbb2d-e47a-47f3-a066-59277f3d2036"
      },
      "outputs": [
        {
          "name": "stdout",
          "output_type": "stream",
          "text": [
            "13/13 - 0s - loss: 0.5761 - accuracy: 0.7525 - 47ms/epoch - 4ms/step\n",
            "\n",
            "      Model Loss: 0.5760796070098877\n",
            "      Accuracy: 0.7524999976158142\n"
          ]
        }
      ],
      "source": [
        "# Evaluate the model loss and accuracy metrics using the evaluate method and the test data\n",
        "model_loss, model_accuracy = model.evaluate(X_test_scaled, y_test, verbose =2)\n",
        "\n",
        "# Display the model loss and accuracy results\n",
        "print(f\"\"\"\n",
        "      Model Loss: {model_loss}\n",
        "      Accuracy: {model_accuracy}\"\"\")"
      ]
    },
    {
      "cell_type": "markdown",
      "metadata": {
        "id": "jpAv0rXA6q61"
      },
      "source": [
        "### Step 4: Save and export your model to a keras file, and name the file `student_loans.keras`.\n"
      ]
    },
    {
      "cell_type": "code",
      "execution_count": 294,
      "metadata": {
        "id": "tEZ9ZAoc3-Bv"
      },
      "outputs": [],
      "source": [
        "# Set the model's file path\n",
        "ROOT_DIR =  \"./\"\n",
        "if os.environ.get('COLAB_BACKEND_VERSION') is not None:\n",
        "  print(\"You ARE running in Google Colab. A drive will be mounted\") \n",
        "  from google.colab import drive\n",
        "  ROOT_DIR = '/content/drive/'\n",
        "  drive.mount = ROOT_DIR\n",
        "    \n",
        "    \n",
        "    "
      ]
    },
    {
      "cell_type": "code",
      "execution_count": 295,
      "metadata": {
        "colab": {
          "base_uri": "https://localhost:8080/",
          "height": 321
        },
        "id": "q0MetN0W6q61",
        "outputId": "932097b5-4b11-46f5-ebe5-f9b6114aff32"
      },
      "outputs": [],
      "source": [
        "\n",
        "model_path = ROOT_DIR+\"student_loans.keras\"\n",
        "\n",
        "# Export your model to a keras file\n",
        "\n",
        "model.save(model_path)"
      ]
    },
    {
      "cell_type": "markdown",
      "metadata": {
        "id": "R1opCDdN6q61"
      },
      "source": [
        "---\n",
        "## Predict Loan Repayment Success by Using your Neural Network Model"
      ]
    },
    {
      "cell_type": "markdown",
      "metadata": {
        "id": "TfIfpeiy6q61"
      },
      "source": [
        "### Step 1: Reload your saved model."
      ]
    },
    {
      "cell_type": "code",
      "execution_count": 296,
      "metadata": {
        "id": "OCET2mvW6q61"
      },
      "outputs": [
        {
          "name": "stdout",
          "output_type": "stream",
          "text": [
            "Model: \"sequential_9\"\n",
            "_________________________________________________________________\n",
            " Layer (type)                Output Shape              Param #   \n",
            "=================================================================\n",
            " dense_27 (Dense)            (None, 20)                220       \n",
            "                                                                 \n",
            " dense_28 (Dense)            (None, 10)                210       \n",
            "                                                                 \n",
            " dense_29 (Dense)            (None, 1)                 11        \n",
            "                                                                 \n",
            "=================================================================\n",
            "Total params: 441\n",
            "Trainable params: 441\n",
            "Non-trainable params: 0\n",
            "_________________________________________________________________\n"
          ]
        }
      ],
      "source": [
        "# Set the model's file path\n",
        "\n",
        "\n",
        "# Load the model to a new object\n",
        "model2 = tf.keras.models.load_model(model_path)\n",
        "model2.summary()"
      ]
    },
    {
      "cell_type": "markdown",
      "metadata": {
        "id": "rTPKooGw6q61"
      },
      "source": [
        "### Step 2: Make predictions on the testing data and save the predictions to a DataFrame."
      ]
    },
    {
      "cell_type": "code",
      "execution_count": 297,
      "metadata": {
        "id": "Vet7qjgx6q62"
      },
      "outputs": [
        {
          "name": "stdout",
          "output_type": "stream",
          "text": [
            "13/13 [==============================] - 0s 306us/step\n"
          ]
        },
        {
          "data": {
            "text/plain": [
              "array([[0.05191607],\n",
              "       [0.40220687],\n",
              "       [0.6369194 ],\n",
              "       [0.7734896 ],\n",
              "       [0.9282573 ],\n",
              "       [0.8637334 ],\n",
              "       [0.9728896 ],\n",
              "       [0.04922204],\n",
              "       [0.62752724],\n",
              "       [0.2622888 ],\n",
              "       [0.9104779 ],\n",
              "       [0.07275641],\n",
              "       [0.3136307 ],\n",
              "       [0.9486317 ],\n",
              "       [0.6691818 ],\n",
              "       [0.4716683 ],\n",
              "       [0.93743235],\n",
              "       [0.4401054 ],\n",
              "       [0.45489687],\n",
              "       [0.35408416],\n",
              "       [0.5243397 ],\n",
              "       [0.9153751 ],\n",
              "       [0.222039  ],\n",
              "       [0.93704796],\n",
              "       [0.21788374],\n",
              "       [0.97097373],\n",
              "       [0.705572  ],\n",
              "       [0.57888913],\n",
              "       [0.29389182],\n",
              "       [0.91430587],\n",
              "       [0.79658735],\n",
              "       [0.9889577 ],\n",
              "       [0.17634064],\n",
              "       [0.969602  ],\n",
              "       [0.05963914],\n",
              "       [0.3532159 ],\n",
              "       [0.1269865 ],\n",
              "       [0.35394555],\n",
              "       [0.95532423],\n",
              "       [0.06085252],\n",
              "       [0.9839483 ],\n",
              "       [0.04836491],\n",
              "       [0.13883561],\n",
              "       [0.9643846 ],\n",
              "       [0.08158509],\n",
              "       [0.61718893],\n",
              "       [0.16249141],\n",
              "       [0.16485111],\n",
              "       [0.25443122],\n",
              "       [0.7694842 ],\n",
              "       [0.00439644],\n",
              "       [0.06015219],\n",
              "       [0.9695088 ],\n",
              "       [0.04638493],\n",
              "       [0.40777698],\n",
              "       [0.62912804],\n",
              "       [0.845425  ],\n",
              "       [0.90748155],\n",
              "       [0.99306005],\n",
              "       [0.23197253],\n",
              "       [0.93567276],\n",
              "       [0.12114871],\n",
              "       [0.57497203],\n",
              "       [0.20922996],\n",
              "       [0.03422124],\n",
              "       [0.07421305],\n",
              "       [0.9673619 ],\n",
              "       [0.57654494],\n",
              "       [0.631765  ],\n",
              "       [0.99420637],\n",
              "       [0.05963914],\n",
              "       [0.8744988 ],\n",
              "       [0.63371605],\n",
              "       [0.53761697],\n",
              "       [0.03374824],\n",
              "       [0.33831728],\n",
              "       [0.98059016],\n",
              "       [0.02654287],\n",
              "       [0.02353584],\n",
              "       [0.79598683],\n",
              "       [0.60423386],\n",
              "       [0.07503264],\n",
              "       [0.11986933],\n",
              "       [0.58108234],\n",
              "       [0.8139504 ],\n",
              "       [0.09470262],\n",
              "       [0.21442628],\n",
              "       [0.872392  ],\n",
              "       [0.44682008],\n",
              "       [0.55986565],\n",
              "       [0.04025082],\n",
              "       [0.96607125],\n",
              "       [0.30050966],\n",
              "       [0.98609155],\n",
              "       [0.747631  ],\n",
              "       [0.4566283 ],\n",
              "       [0.9563581 ],\n",
              "       [0.79317874],\n",
              "       [0.58512574],\n",
              "       [0.8086857 ],\n",
              "       [0.6118042 ],\n",
              "       [0.14455771],\n",
              "       [0.13105828],\n",
              "       [0.17586602],\n",
              "       [0.03141703],\n",
              "       [0.4542866 ],\n",
              "       [0.7411843 ],\n",
              "       [0.78442967],\n",
              "       [0.7440564 ],\n",
              "       [0.05919724],\n",
              "       [0.9996836 ],\n",
              "       [0.7699582 ],\n",
              "       [0.7371229 ],\n",
              "       [0.88992965],\n",
              "       [0.37960288],\n",
              "       [0.99716276],\n",
              "       [0.22419283],\n",
              "       [0.09720288],\n",
              "       [0.24146031],\n",
              "       [0.15635994],\n",
              "       [0.03380288],\n",
              "       [0.9942374 ],\n",
              "       [0.9355645 ],\n",
              "       [0.15008077],\n",
              "       [0.40833873],\n",
              "       [0.41439736],\n",
              "       [0.9399051 ],\n",
              "       [0.3261738 ],\n",
              "       [0.53353965],\n",
              "       [0.6689169 ],\n",
              "       [0.1152029 ],\n",
              "       [0.43342912],\n",
              "       [0.9755349 ],\n",
              "       [0.254876  ],\n",
              "       [0.6464672 ],\n",
              "       [0.6966015 ],\n",
              "       [0.09734315],\n",
              "       [0.98407996],\n",
              "       [0.67972916],\n",
              "       [0.29837215],\n",
              "       [0.38541543],\n",
              "       [0.8020295 ],\n",
              "       [0.3725839 ],\n",
              "       [0.1357963 ],\n",
              "       [0.26156285],\n",
              "       [0.95998734],\n",
              "       [0.51089716],\n",
              "       [0.1008131 ],\n",
              "       [0.7245182 ],\n",
              "       [0.93000364],\n",
              "       [0.4165448 ],\n",
              "       [0.9706295 ],\n",
              "       [0.18733604],\n",
              "       [0.47407618],\n",
              "       [0.9330221 ],\n",
              "       [0.98359567],\n",
              "       [0.937118  ],\n",
              "       [0.9690373 ],\n",
              "       [0.89488286],\n",
              "       [0.87981915],\n",
              "       [0.9264197 ],\n",
              "       [0.2602648 ],\n",
              "       [0.17865536],\n",
              "       [0.09956827],\n",
              "       [0.9796943 ],\n",
              "       [0.9243909 ],\n",
              "       [0.19490981],\n",
              "       [0.08067653],\n",
              "       [0.08223012],\n",
              "       [0.6941764 ],\n",
              "       [0.56224567],\n",
              "       [0.70133346],\n",
              "       [0.29994068],\n",
              "       [0.8311659 ],\n",
              "       [0.98828894],\n",
              "       [0.36097336],\n",
              "       [0.25443572],\n",
              "       [0.3935736 ],\n",
              "       [0.21286708],\n",
              "       [0.4566283 ],\n",
              "       [0.7366566 ],\n",
              "       [0.88194424],\n",
              "       [0.803713  ],\n",
              "       [0.07467249],\n",
              "       [0.97525907],\n",
              "       [0.98880076],\n",
              "       [0.92556095],\n",
              "       [0.12573692],\n",
              "       [0.2690088 ],\n",
              "       [0.05977802],\n",
              "       [0.4858066 ],\n",
              "       [0.33432564],\n",
              "       [0.35331288],\n",
              "       [0.2477477 ],\n",
              "       [0.8261068 ],\n",
              "       [0.5007994 ],\n",
              "       [0.65801084],\n",
              "       [0.10502215],\n",
              "       [0.09841881],\n",
              "       [0.3580575 ],\n",
              "       [0.94449604],\n",
              "       [0.2924345 ],\n",
              "       [0.93172705],\n",
              "       [0.13431592],\n",
              "       [0.99638164],\n",
              "       [0.867049  ],\n",
              "       [0.2825289 ],\n",
              "       [0.0859657 ],\n",
              "       [0.8312775 ],\n",
              "       [0.8407635 ],\n",
              "       [0.23651145],\n",
              "       [0.7386167 ],\n",
              "       [0.13105828],\n",
              "       [0.9834656 ],\n",
              "       [0.13412169],\n",
              "       [0.3065599 ],\n",
              "       [0.09151855],\n",
              "       [0.01671972],\n",
              "       [0.8291427 ],\n",
              "       [0.52508664],\n",
              "       [0.3327022 ],\n",
              "       [0.21552947],\n",
              "       [0.86457217],\n",
              "       [0.38370493],\n",
              "       [0.76306254],\n",
              "       [0.58402294],\n",
              "       [0.30163044],\n",
              "       [0.55390126],\n",
              "       [0.99698174],\n",
              "       [0.5850569 ],\n",
              "       [0.24623215],\n",
              "       [0.37514508],\n",
              "       [0.979006  ],\n",
              "       [0.9840102 ],\n",
              "       [0.15035492],\n",
              "       [0.00225311],\n",
              "       [0.99081886],\n",
              "       [0.1837909 ],\n",
              "       [0.43537882],\n",
              "       [0.36716914],\n",
              "       [0.93219566],\n",
              "       [0.93474466],\n",
              "       [0.89089096],\n",
              "       [0.6329855 ],\n",
              "       [0.54337853],\n",
              "       [0.9954767 ],\n",
              "       [0.56254935],\n",
              "       [0.24353981],\n",
              "       [0.15679927],\n",
              "       [0.34805733],\n",
              "       [0.10085315],\n",
              "       [0.1354729 ],\n",
              "       [0.9965664 ],\n",
              "       [0.8514426 ],\n",
              "       [0.98962724],\n",
              "       [0.4095118 ],\n",
              "       [0.1170908 ],\n",
              "       [0.6826199 ],\n",
              "       [0.3142121 ],\n",
              "       [0.62981254],\n",
              "       [0.8244042 ],\n",
              "       [0.05150644],\n",
              "       [0.81143147],\n",
              "       [0.34333092],\n",
              "       [0.27362075],\n",
              "       [0.7245182 ],\n",
              "       [0.9186112 ],\n",
              "       [0.11410414],\n",
              "       [0.3114216 ],\n",
              "       [0.94760144],\n",
              "       [0.07844201],\n",
              "       [0.6602575 ],\n",
              "       [0.14979647],\n",
              "       [0.9903155 ],\n",
              "       [0.22090231],\n",
              "       [0.5881306 ],\n",
              "       [0.5217158 ],\n",
              "       [0.70133346],\n",
              "       [0.58001864],\n",
              "       [0.14506502],\n",
              "       [0.9990935 ],\n",
              "       [0.36487702],\n",
              "       [0.57238185],\n",
              "       [0.05512791],\n",
              "       [0.2512724 ],\n",
              "       [0.3755179 ],\n",
              "       [0.52394843],\n",
              "       [0.02047998],\n",
              "       [0.30684766],\n",
              "       [0.6840941 ],\n",
              "       [0.46025336],\n",
              "       [0.93743235],\n",
              "       [0.7357951 ],\n",
              "       [0.72919554],\n",
              "       [0.9923081 ],\n",
              "       [0.8432722 ],\n",
              "       [0.1339462 ],\n",
              "       [0.90508246],\n",
              "       [0.18676467],\n",
              "       [0.11219071],\n",
              "       [0.46753925],\n",
              "       [0.82310146],\n",
              "       [0.09690773],\n",
              "       [0.76784986],\n",
              "       [0.15380578],\n",
              "       [0.8017164 ],\n",
              "       [0.06652731],\n",
              "       [0.9788858 ],\n",
              "       [0.57733506],\n",
              "       [0.03316997],\n",
              "       [0.11935385],\n",
              "       [0.5885557 ],\n",
              "       [0.41879258],\n",
              "       [0.6690375 ],\n",
              "       [0.7515777 ],\n",
              "       [0.65881246],\n",
              "       [0.14671704],\n",
              "       [0.2657935 ],\n",
              "       [0.9941214 ],\n",
              "       [0.99081886],\n",
              "       [0.45093888],\n",
              "       [0.50458366],\n",
              "       [0.99700564],\n",
              "       [0.14630985],\n",
              "       [0.5007994 ],\n",
              "       [0.26231152],\n",
              "       [0.04179949],\n",
              "       [0.99885666],\n",
              "       [0.8752896 ],\n",
              "       [0.915818  ],\n",
              "       [0.94812673],\n",
              "       [0.1189188 ],\n",
              "       [0.60888916],\n",
              "       [0.36614993],\n",
              "       [0.6550325 ],\n",
              "       [0.2519992 ],\n",
              "       [0.96194583],\n",
              "       [0.9834656 ],\n",
              "       [0.07818699],\n",
              "       [0.65221965],\n",
              "       [0.31828585],\n",
              "       [0.04211744],\n",
              "       [0.6887308 ],\n",
              "       [0.90789545],\n",
              "       [0.42565086],\n",
              "       [0.9919913 ],\n",
              "       [0.9722705 ],\n",
              "       [0.20078397],\n",
              "       [0.35506704],\n",
              "       [0.7407205 ],\n",
              "       [0.7386167 ],\n",
              "       [0.9970825 ],\n",
              "       [0.8421175 ],\n",
              "       [0.7403056 ],\n",
              "       [0.61752605],\n",
              "       [0.12055973],\n",
              "       [0.9972203 ],\n",
              "       [0.9486317 ],\n",
              "       [0.09734315],\n",
              "       [0.13846086],\n",
              "       [0.3854717 ],\n",
              "       [0.8537675 ],\n",
              "       [0.3531908 ],\n",
              "       [0.97936934],\n",
              "       [0.22722432],\n",
              "       [0.13568471],\n",
              "       [0.30402458],\n",
              "       [0.46792808],\n",
              "       [0.7315555 ],\n",
              "       [0.00225311],\n",
              "       [0.5005382 ],\n",
              "       [0.7055902 ],\n",
              "       [0.43406367],\n",
              "       [0.05554505],\n",
              "       [0.25184575],\n",
              "       [0.5103599 ],\n",
              "       [0.9992232 ],\n",
              "       [0.99836504],\n",
              "       [0.3065599 ],\n",
              "       [0.89298373],\n",
              "       [0.9714242 ],\n",
              "       [0.8185125 ],\n",
              "       [0.95891434],\n",
              "       [0.8053955 ],\n",
              "       [0.58827984],\n",
              "       [0.9333879 ],\n",
              "       [0.00240171],\n",
              "       [0.5836702 ],\n",
              "       [0.9312208 ],\n",
              "       [0.45260662],\n",
              "       [0.45230868],\n",
              "       [0.19304433],\n",
              "       [0.3461084 ],\n",
              "       [0.79550236],\n",
              "       [0.2159458 ],\n",
              "       [0.75389355],\n",
              "       [0.44682008],\n",
              "       [0.979006  ],\n",
              "       [0.14213575],\n",
              "       [0.5791904 ]], dtype=float32)"
            ]
          },
          "execution_count": 297,
          "metadata": {},
          "output_type": "execute_result"
        }
      ],
      "source": [
        "# Make predictions with the test data\n",
        "model2_predictions = model2.predict(X_test_scaled)\n",
        "\n",
        "# Display a sample of the predictions\n",
        "model2_predictions"
      ]
    },
    {
      "cell_type": "code",
      "execution_count": 298,
      "metadata": {
        "id": "87o8exFPhjfl"
      },
      "outputs": [
        {
          "data": {
            "text/html": [
              "<div>\n",
              "<style scoped>\n",
              "    .dataframe tbody tr th:only-of-type {\n",
              "        vertical-align: middle;\n",
              "    }\n",
              "\n",
              "    .dataframe tbody tr th {\n",
              "        vertical-align: top;\n",
              "    }\n",
              "\n",
              "    .dataframe thead th {\n",
              "        text-align: right;\n",
              "    }\n",
              "</style>\n",
              "<table border=\"1\" class=\"dataframe\">\n",
              "  <thead>\n",
              "    <tr style=\"text-align: right;\">\n",
              "      <th></th>\n",
              "      <th>credit_ranking</th>\n",
              "    </tr>\n",
              "  </thead>\n",
              "  <tbody>\n",
              "    <tr>\n",
              "      <th>0</th>\n",
              "      <td>0.0</td>\n",
              "    </tr>\n",
              "    <tr>\n",
              "      <th>1</th>\n",
              "      <td>0.0</td>\n",
              "    </tr>\n",
              "    <tr>\n",
              "      <th>2</th>\n",
              "      <td>1.0</td>\n",
              "    </tr>\n",
              "    <tr>\n",
              "      <th>3</th>\n",
              "      <td>1.0</td>\n",
              "    </tr>\n",
              "    <tr>\n",
              "      <th>4</th>\n",
              "      <td>1.0</td>\n",
              "    </tr>\n",
              "  </tbody>\n",
              "</table>\n",
              "</div>"
            ],
            "text/plain": [
              "   credit_ranking\n",
              "0             0.0\n",
              "1             0.0\n",
              "2             1.0\n",
              "3             1.0\n",
              "4             1.0"
            ]
          },
          "execution_count": 298,
          "metadata": {},
          "output_type": "execute_result"
        }
      ],
      "source": [
        "# Save the predictions to a DataFrame and round the predictions to binary results\n",
        "rounded_predictions = np.round(model2_predictions)\n",
        "model2_predictions_df = pd.DataFrame(rounded_predictions, columns=[TARGET_COL])\n",
        "# model2_predictions_df = np.round(model2_predictions_df)\n",
        "model2_predictions_df.head()"
      ]
    },
    {
      "cell_type": "markdown",
      "metadata": {
        "id": "oxxLwycg6q62"
      },
      "source": [
        "### Step 4: Display a classification report with the y test data and predictions"
      ]
    },
    {
      "cell_type": "code",
      "execution_count": 299,
      "metadata": {
        "id": "UTxYZibW6q67"
      },
      "outputs": [
        {
          "name": "stdout",
          "output_type": "stream",
          "text": [
            "              precision    recall  f1-score   support\n",
            "\n",
            "           0       0.73      0.74      0.74       188\n",
            "           1       0.77      0.76      0.76       212\n",
            "\n",
            "    accuracy                           0.75       400\n",
            "   macro avg       0.75      0.75      0.75       400\n",
            "weighted avg       0.75      0.75      0.75       400\n",
            "\n"
          ]
        }
      ],
      "source": [
        "# Print the classification report with the y test data and predictions\n",
        "print(classification_report(y_true=y_test, y_pred=rounded_predictions))"
      ]
    },
    {
      "cell_type": "markdown",
      "metadata": {
        "id": "8Aaof1tBtcp6"
      },
      "source": [
        "---\n",
        "## Discuss creating a recommendation system for student loans"
      ]
    },
    {
      "cell_type": "markdown",
      "metadata": {
        "id": "_CC8cNpNtcp6"
      },
      "source": [
        "Briefly answer the following questions in the space provided:\n",
        "\n",
        "1. Describe the data that you would need to collect to build a recommendation system to recommend student loan options for students. Explain why this data would be relevant and appropriate.\n",
        "\n",
        "2. Based on the data you chose to use in this recommendation system, would your model be using collaborative filtering, content-based filtering, or context-based filtering? Justify why the data you selected would be suitable for your choice of filtering method.\n",
        "\n",
        "3. Describe two real-world challenges that you would take into consideration while building a recommendation system for student loans. Explain why these challenges would be of concern for a student loan recommendation system."
      ]
    },
    {
      "cell_type": "markdown",
      "metadata": {
        "id": "5KqIT8kYtcp6"
      },
      "source": [
        "**1. Describe the data that you would need to collect to build a recommendation system to recommend student loan options for students. Explain why this data would be relevant and appropriate.**\n",
        "I think it would be helpful to collect the below when building the recommendation system\n",
        "| Data | Rationale|\n",
        "| -- | -- |\n",
        "| Credit score | To guage how the customer handles their current and historic financial obligations. |\n",
        "| Current debt to income ratio | To identify how much overall debt the customer is responsible for |\n",
        "| Percentage of overall debt that is due to the loan to be refinanced | This is could be factored into the risk analysis. The company may feel more or less comfortable depending on how much of the debt they are taking on. |\n",
        "| Repayment history for the loan being refinanced | To determine how well the customer has handled this particualr debt obligation. |\n",
        "| Customer location* | Certain locations are more likely to have more job opportunties than others |\n",
        "| STEM degree score* | People with STEM degress tend to have a higher earning potential than people with non-STEM degrees |\n",
        "| Finance_workshop_score* | I'm guessing that this was some sort of evaluation of financial knowledge but I could be wrong |\n",
        "| Cohort Ranking* | Those with higher a ranking, which is somewhat related to GPA, tend to be offered more work opportunities earlier in their careers. | \n",
        "| Risk ranking predictions from a model similar to the one defined in this exercise. |  To help to predict repayment | \n",
        " *= fields that had higher correlation matrix scores\n",
        "\n",
        "**2. Based on the data you chose to use in this recommendation system, would your model be using collaborative filtering, content-based filtering, or context-based filtering? Justify why the data you selected would be suitable for your choice of filtering method.**\n",
        "\n",
        "Collaborative filtering because the recommendation would be based on information from other similar users.\n",
        "\n",
        "**3. Describe two real-world challenges that you would take into consideration while building a recommendation system for student loans. Explain why these challenges would be of concern for a student loan recommendation system.**\n",
        "\n",
        "1. A customer may not have enough credit history information to accurately predict future repayment behavior. This could lead to an opportunity loss due to denying loans to customers whose near future circumstances make them better able to repay the loan than they were in the past. This could be mitigated, from the loan company perspective, by offering a higher interest rate to the future customers with insufficient credit history data.\n",
        "1. "
      ]
    }
  ],
  "metadata": {
    "colab": {
      "provenance": []
    },
    "kernelspec": {
      "display_name": "dev",
      "language": "python",
      "name": "python3"
    },
    "language_info": {
      "codemirror_mode": {
        "name": "ipython",
        "version": 3
      },
      "file_extension": ".py",
      "mimetype": "text/x-python",
      "name": "python",
      "nbconvert_exporter": "python",
      "pygments_lexer": "ipython3",
      "version": "3.10.13"
    }
  },
  "nbformat": 4,
  "nbformat_minor": 0
}
